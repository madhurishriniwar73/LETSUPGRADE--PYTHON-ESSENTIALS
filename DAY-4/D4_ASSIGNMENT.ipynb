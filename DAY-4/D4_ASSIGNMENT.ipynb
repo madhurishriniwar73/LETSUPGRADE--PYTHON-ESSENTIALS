{
 "cells": [
  {
   "cell_type": "markdown",
   "metadata": {},
   "source": [
    "#Print the first ArmStrong number in the range of 1042000 to 702648265 and exit the loop as soon\n",
    "#as you encounter the first armstrong number.\n",
    "#Use while loop"
   ]
  },
  {
   "cell_type": "code",
   "execution_count": 4,
   "metadata": {},
   "outputs": [
    {
     "name": "stdout",
     "output_type": "stream",
     "text": [
      "1741725\n"
     ]
    }
   ],
   "source": [
    "\n",
    "for i in range (1042000,702648265):\n",
    "    temp=i\n",
    "    sum1=0\n",
    "    length=len(str(i))\n",
    "    \n",
    "    while(temp>0):\n",
    "        r=temp%10;    \n",
    "        sum1 +=(r**length)    \n",
    "        temp=temp//10;\n",
    "\n",
    "    \n",
    "    if(sum1==i):\n",
    "        print(i)\n",
    "        break;\n",
    "    "
   ]
  },
  {
   "cell_type": "code",
   "execution_count": null,
   "metadata": {},
   "outputs": [],
   "source": []
  }
 ],
 "metadata": {
  "kernelspec": {
   "display_name": "Python 3",
   "language": "python",
   "name": "python3"
  },
  "language_info": {
   "codemirror_mode": {
    "name": "ipython",
    "version": 3
   },
   "file_extension": ".py",
   "mimetype": "text/x-python",
   "name": "python",
   "nbconvert_exporter": "python",
   "pygments_lexer": "ipython3",
   "version": "3.8.3"
  }
 },
 "nbformat": 4,
 "nbformat_minor": 4
}
